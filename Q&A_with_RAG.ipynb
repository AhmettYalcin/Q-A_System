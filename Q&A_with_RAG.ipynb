{
 "cells": [
  {
   "cell_type": "code",
   "execution_count": 10,
   "id": "76141d1e-43f6-46c8-af96-057a0f6f8b6e",
   "metadata": {},
   "outputs": [],
   "source": [
    "import bs4\n",
    "from langchain import hub\n",
    "from langchain_community.document_loaders import WebBaseLoader\n",
    "import os\n",
    "from langchain.chat_models import ChatOpenAI\n",
    "from langchain.text_splitter import RecursiveCharacterTextSplitter\n",
    "from langchain_core.output_parsers import StrOutputParser\n",
    "from langchain_core.runnables import RunnablePassthrough\n",
    "from langchain.embeddings import OpenAIEmbeddings\n",
    "import requests\n",
    "from langchain.schema import Document\n",
    "from langchain.vectorstores import FAISS\n",
    "from langchain.chains import LLMChain\n",
    "from langchain.llms import OpenAI\n",
    "from langchain.prompts import PromptTemplate\n",
    "from langchain_text_splitters import RecursiveCharacterTextSplitter"
   ]
  },
  {
   "cell_type": "markdown",
   "id": "77299f88-cd3b-4bc5-a2c2-ce1889077af2",
   "metadata": {},
   "source": [
    "Ödev de kodların açıklanması istendiği için kodları neden yazdığımı ya da ne işe yaradıklarını yazıyorum"
   ]
  },
  {
   "cell_type": "markdown",
   "id": "8665cdc7-c85d-4dcc-9eee-68df3e9c1740",
   "metadata": {},
   "source": [
    "# Aşama 1: Veri Hazırlığı ve Ön İşleme"
   ]
  },
  {
   "cell_type": "code",
   "execution_count": 11,
   "id": "f6872afd-8700-4463-aa69-195ed392069b",
   "metadata": {},
   "outputs": [],
   "source": [
    " #Dosyayı indir ve yükle\n",
    "url = \"https://raw.githubusercontent.com/respondcreate/nginx-access-log-frequency/master/example-access.log\"\n",
    "response = requests.get(url) #url den içeriği indir, requests kütüphanesi HTTP istekleri yapar\n",
    "log_content = response.text # indirilen dosyanın textini metin olarak tuttum\n",
    "\n",
    "# Log'u document olarak oluşturup grerkirse analiz ve işleme için...\n",
    "docs = [Document(page_content=log_content)]\n",
    "\n",
    "# benim kulandığım log dosyası küçük ve için de zaten az bilgi var bu yüzden herhangi bir veri silmiyorum ancak \n",
    "#eğer verim büyük olsaydı ve boş ya da kullanmamıza gerek olmayan çok veri olsaydı verileri düzenlerdim. \"Data analysis\" notebook'ta\n",
    "#verileri pandas ile dataframe'e çevirip biraz düzenleme yaptım :)."
   ]
  },
  {
   "cell_type": "code",
   "execution_count": 12,
   "id": "b5438c08-a658-4454-9bd0-fb74d3d108f8",
   "metadata": {},
   "outputs": [],
   "source": [
    "# Metin içeriği yapmıştık onu parçalara ayırmalıyız\n",
    "text_splitter = RecursiveCharacterTextSplitter(chunk_size=1000, chunk_overlap=50) # chunk_overlap değeri langchain sitesinde 200 olarak ayarlanmış...\n",
    "splits = text_splitter.split_documents(docs) # docstaki metinleri belirlenen parçalara böler\n",
    "\n",
    "# bunu yapmamızın sebebi textimizi ileride dil modeli için kullanacağız\n",
    "# chunk_size metnin ne kadar büyük parçalara böleceğini belirliyo\n",
    "# chunk_overlap bitişik parçaların bazı bölümlerinin tekrar edilmesini sağlar"
   ]
  },
  {
   "cell_type": "markdown",
   "id": "865d71d0-8711-4a2f-999f-e5335cb0a029",
   "metadata": {},
   "source": [
    "### Vektörlere dönüştürüp, uygun bir vektör veri tabanına (örneğin, FAISS, Pinecone) yükleyin."
   ]
  },
  {
   "cell_type": "code",
   "execution_count": 17,
   "id": "f7c20661-543c-4f4e-b410-4187d8799162",
   "metadata": {},
   "outputs": [],
   "source": [
    "openai_api_key = \"****\"\n",
    "os.environ[\"OPENAI_API_KEY\"] = openai_api_key\n",
    "\n",
    "#llm = ChatOpenAI(model=\"gpt-3.5-turbo-0125\") # 4o-latest daha yeni ve güncel olduğu için bunu kullanmıycam\n",
    "\n",
    "llm = ChatOpenAI(model=\"chatgpt-4o-latest\", max_tokens=20000, temperature=0.2)\n",
    "\n",
    "# max_tokens = 20000 , modelin üretebileceği maksimum token saysını belirler. bizim modelimiz için fazla bile...\n",
    "# temperature = 0.2 , değer küçüldükçe daha tutarlı cevaplar verir, değer büyüdükçe çeşitli cevaplar üretir.\n",
    "# temperature değerini çok yükseltmek yaratıcı ve çeşitli değerler verse de gerçeklikten de uzaklaşabilir."
   ]
  },
  {
   "cell_type": "code",
   "execution_count": 14,
   "id": "48aaf5b2-78ea-4add-b110-dbf77451a177",
   "metadata": {},
   "outputs": [],
   "source": [
    "# Vektör deposu oluşturma (FAISS kullanarak)\n",
    "embedding = OpenAIEmbeddings() # Word Embedding ile metinleri sayısal verilere dönüştürdük\n",
    "\n",
    "vectorstore = FAISS.from_documents(documents=splits, embedding=embedding)\n",
    "#yukarıda vektör deposu yaptım. FAISS yerel bir vektör deposu."
   ]
  },
  {
   "cell_type": "code",
   "execution_count": 15,
   "id": "1cba47a7-c3bc-43e8-9249-8bb2fa350ecf",
   "metadata": {},
   "outputs": [],
   "source": [
    "# Retriever oluşturma\n",
    "retriever = vectorstore.as_retriever()\n",
    "\n",
    "# Bu işlemi yapma sebebimiz FAISS vektör deposunu, veri arama ve alım işlemleri için kullanılabilir yapıyor "
   ]
  },
  {
   "cell_type": "markdown",
   "id": "0bce4fe1-e389-427a-be82-2881322a92b9",
   "metadata": {},
   "source": [
    "# Aşama 2: RAG Modelinin Kurulumu"
   ]
  },
  {
   "cell_type": "code",
   "execution_count": 16,
   "id": "721f4b5d-7d76-427b-bba9-64d4b991f8d6",
   "metadata": {},
   "outputs": [],
   "source": [
    "#modelin sorulara cevap verirken kullanacağı bir prompt şablonudur\n",
    "prompt_template = \"\"\"\n",
    "Answer questions according to the following context:\n",
    "\n",
    "{context}\n",
    "\n",
    "Question: {question}\n",
    "Answer:\n",
    "\"\"\"\n",
    "prompt = PromptTemplate(template=prompt_template, input_variables=[\"context\", \"question\"]) #  prompt oluşturmak için kullanılan araç\n",
    "\n",
    "llm = OpenAI() #llm tanımlıyoruz, verilen prompta göre cevap üreticek\n",
    "\n",
    "# RAG Chain oluşturma\n",
    "# LLMChain Modeli ve promptu kullanarak sorguya uygun cevabı üreticek\n",
    "rag_chain = LLMChain(\n",
    "    llm=llm,\n",
    "    prompt=prompt\n",
    ")"
   ]
  },
  {
   "cell_type": "code",
   "execution_count": 8,
   "id": "55ddaed8-2046-4cee-9887-804516c17323",
   "metadata": {},
   "outputs": [],
   "source": [
    "def ask_question(question):\n",
    "    docs_context = retriever.get_relevant_documents(question) # soruyu temel alıp uluşturduğum vektör deposundan lazım olan belgeyi getirir\n",
    "    context = \"\\n\\n\".join([doc.page_content for doc in docs_context])\n",
    "    return rag_chain.run({\"question\": question, \"context\": context}) # rag_chainle yanıt üretiliir\n"
   ]
  },
  {
   "cell_type": "markdown",
   "id": "90326871-b83f-45fa-a9a6-4aa49fa9d1ae",
   "metadata": {},
   "source": [
    "## Genel Sorular"
   ]
  },
  {
   "cell_type": "code",
   "execution_count": 35,
   "id": "b8a0731a-fed2-44fa-b1c8-4832dc3b5186",
   "metadata": {},
   "outputs": [
    {
     "name": "stdout",
     "output_type": "stream",
     "text": [
      "Cevap: 111.222.333.444\n"
     ]
    }
   ],
   "source": [
    "question = \"En sık kullanılan IP adresi nedir\"\n",
    "answer = ask_question(question)\n",
    "\n",
    "print(\"Cevap:\", answer)"
   ]
  },
  {
   "cell_type": "code",
   "execution_count": 39,
   "id": "e382e26a-cd57-402d-95c5-a09b47da9410",
   "metadata": {},
   "outputs": [
    {
     "name": "stdout",
     "output_type": "stream",
     "text": [
      "Cevap: \n",
      "111.222.333.444 - 8 kez kullanılmıştır.\n"
     ]
    }
   ],
   "source": [
    "question = \"En sık kullanılan IP adresi nedir ve kaç kez kullanılmıştır\"\n",
    "answer = ask_question(question)\n",
    "\n",
    "print(\"Cevap:\", answer)"
   ]
  },
  {
   "cell_type": "code",
   "execution_count": 43,
   "id": "6fa80b2e-6a3f-40ff-99a6-0928d8943f0f",
   "metadata": {},
   "outputs": [
    {
     "name": "stdout",
     "output_type": "stream",
     "text": [
      "Cevap: HTTP isteklerinin çoğunluğu 301 durum kodunu döndürmüştür.\n"
     ]
    }
   ],
   "source": [
    "question = \"HTTP isteklerinin çoğunluğu hangi durumu döndürmüştür?\"\n",
    "answer = ask_question(question)\n",
    "\n",
    "print(\"Cevap:\", answer)"
   ]
  },
  {
   "cell_type": "code",
   "execution_count": 47,
   "id": "feae10ac-09fd-4850-9f4b-f15aa22a78e6",
   "metadata": {},
   "outputs": [
    {
     "name": "stdout",
     "output_type": "stream",
     "text": [
      "Cevap: \n",
      "301 durum kodu, istekte bulunulan kaynağın kalıcı olarak başka bir URI'ye taşındığını ve bu yeni URI'nin kullanılması gerektiğini belirtir. Bu durum kodu, bir kaynağın URL'sinin değiştirilmesi veya bir web sitesinin taşınması gibi durumlarda sıkça kullanılır. Bu durumda, HTTP isteklerinin çoğu 301 durum kodunu 15 kez döndürmüştür.\n"
     ]
    }
   ],
   "source": [
    "question = \"HTTP isteklerinin çoğunluğu hangi durumu , kaç kere döndürmüştür?\"\n",
    "answer = ask_question(question)\n",
    "\n",
    "print(\"Cevap:\", answer)"
   ]
  },
  {
   "cell_type": "code",
   "execution_count": 83,
   "id": "6a83d952-d6f4-4ff8-a7e8-2fc0b521c6c9",
   "metadata": {},
   "outputs": [
    {
     "name": "stdout",
     "output_type": "stream",
     "text": [
      "Cevap: /test-endpoint\n"
     ]
    }
   ],
   "source": [
    "question = \"En sık erişilen endpoint nedir?\"\n",
    "answer = ask_question(question)\n",
    "\n",
    "print(\"Cevap:\", answer)"
   ]
  },
  {
   "cell_type": "code",
   "execution_count": 100,
   "id": "ad441318-aab0-4098-85cf-7e8f24ea8b6f",
   "metadata": {},
   "outputs": [
    {
     "name": "stdout",
     "output_type": "stream",
     "text": [
      "Cevap: En çok kullanılan endpoint \"/test-endpoint\"tir. Bu endpoint 10 kez kullanılmıştır.\n"
     ]
    }
   ],
   "source": [
    "question = \"En çok kullanılan endpoint nedir?\"\n",
    "answer = ask_question(question)\n",
    "\n",
    "print(\"Cevap:\", answer)"
   ]
  },
  {
   "cell_type": "markdown",
   "id": "46aa9f4a-2af0-4d4e-ace3-836bda12b65e",
   "metadata": {},
   "source": [
    "## Bazı Ayrıntı Sorular"
   ]
  },
  {
   "cell_type": "code",
   "execution_count": 128,
   "id": "3de3950c-4d53-4c97-92b3-1b1a7f9ee8db",
   "metadata": {},
   "outputs": [
    {
     "name": "stdout",
     "output_type": "stream",
     "text": [
      "Cevap: 33.444.55.666 IP adresi tarafından kullanılmıştır.\n"
     ]
    }
   ],
   "source": [
    "question = \"'libwww-perl/6.05' user agent'ı hangi IP adresi tarafından kullanılmıştır?\"\n",
    "answer = ask_question(question)\n",
    "\n",
    "print(\"Cevap:\", answer)"
   ]
  },
  {
   "cell_type": "code",
   "execution_count": 133,
   "id": "495bdabc-6cc6-425c-a656-340c5c377873",
   "metadata": {},
   "outputs": [
    {
     "name": "stdout",
     "output_type": "stream",
     "text": [
      "Cevap: There are 11 requests that returned a 400 error code.\n"
     ]
    }
   ],
   "source": [
    "question = \"Kaç tane 400 hata kodu döndüren istek vardır?\"\n",
    "answer = ask_question(question)\n",
    "\n",
    "print(\"Cevap:\", answer)"
   ]
  },
  {
   "cell_type": "code",
   "execution_count": 146,
   "id": "969a2deb-2d10-4dd3-9b58-2d06e668c34a",
   "metadata": {
    "scrolled": true
   },
   "outputs": [
    {
     "name": "stdout",
     "output_type": "stream",
     "text": [
      "Cevap: There are at least 5 different user agents used in the given context. They are:\n",
      "1. Mozilla/5.0 (Macintosh; Intel Mac OS X 10_11_1) AppleWebKit/537.36 (KHTML, like Gecko) Chrome/46.0.2490.86 Safari/537.36\n",
      "2. libwww-perl/6.05\n",
      "3. Mozilla/3.0 (compatible; Indy Library)\n",
      "4. -\n",
      "5. NetcraftSurveyAgent/1.0; +info@netcraft.com)\n"
     ]
    }
   ],
   "source": [
    "question = \"Kaç farklı user agent kullanılmış?\"\n",
    "answer = ask_question(question)\n",
    "\n",
    "print(\"Cevap:\", answer)"
   ]
  },
  {
   "cell_type": "markdown",
   "id": "c57c6a80-3fd6-4bc8-bd7e-c262f02859f6",
   "metadata": {},
   "source": [
    "## Zaman Bazlı Sorular"
   ]
  },
  {
   "cell_type": "code",
   "execution_count": 152,
   "id": "6fa66b4d-593d-4159-85ba-f025aa127792",
   "metadata": {},
   "outputs": [
    {
     "name": "stdout",
     "output_type": "stream",
     "text": [
      "Cevap: En erken yapılan istek: [11/Mar/2016:05:09:15 -0500] \"GET / HTTP/1.1\" 301 184 \"-\" \"libwww-perl/6.05\" \"-\"\n",
      "En geç yapılan istek: [11/Mar/2016:12:07:35 -0500] \"GET / HTTP/1.1\" 200 5454 \"-\" \"-\" \"-\"\n",
      "Bu istekler arasındaki zaman aralığı: 7 saat 58 dakika 20 saniye\n"
     ]
    }
   ],
   "source": [
    "question = \"En erken ve en geç yapılan istekler hangi saatlerde gerçekleşmiştir?\"\n",
    "answer = ask_question(question)\n",
    "\n",
    "print(\"Cevap:\", answer)"
   ]
  },
  {
   "cell_type": "code",
   "execution_count": 159,
   "id": "933e5ec6-7c64-4c93-aa6b-9d4e0df9c5c0",
   "metadata": {},
   "outputs": [
    {
     "name": "stdout",
     "output_type": "stream",
     "text": [
      "Cevap: Evet, saat bazında isteklerin sayısında bir artış veya azalma eğilimi var. Örneğin, 11 Mart 2016 tarihinde 05:09:15 ile 05:09:22 arasında yapılan isteklerin sayısında bir artış görülürken, 05:47:53 saatinde yapılan tek bir istek görülmektedir. Ayrıca, 10:28:49 ile 10:28:54 saatleri arasında da bir artış görülmüştür. Bunun yanı sıra, 10:39:43 ve 10:39:44 saatlerinde de bir artış görülürken, 10:39:45 ile 10:39:47 saatleri arasında bir azalma eğilimi görülmektedir. 12:06:44 saatinde yapılan istek de öncesine göre daha azdır. Bu verilere göre saat bazında isteklerde bir artış veya azalma eğilimi olduğu söylenebilir.\n"
     ]
    }
   ],
   "source": [
    "question = \"Saat bazında isteklerin sayısında bir artış veya azalma eğilimi var mı?\"\n",
    "answer = ask_question(question)\n",
    "\n",
    "print(\"Cevap:\", answer)"
   ]
  },
  {
   "cell_type": "code",
   "execution_count": 160,
   "id": "2e2a1e24-b3df-45e5-bbf8-4d005fcdbd75",
   "metadata": {},
   "outputs": [
    {
     "name": "stdout",
     "output_type": "stream",
     "text": [
      "Cevap: \n",
      "Evet, dakika dakika isteklerin sayısında bir artış veya azalma eğilimi görülmektedir. Örneğin, 11 Mart 2016 tarihinde 10:28:49'da 4 adet istek yapılmışken, 10:28:50'de 1 adet istek yapılmıştır. Benzer şekilde, 10:39:43'te 1 adet istek yapılmışken, 10:39:45'te 3 adet istek yapılmıştır. Bu durum, dakika bazında isteklerin değişken bir şekilde artış veya azalış gösterdiğini göstermektedir.\n"
     ]
    }
   ],
   "source": [
    "question = \"Dakika bazında isteklerin sayısında bir artış veya azalma eğilimi var mı?\"\n",
    "answer = ask_question(question)\n",
    "\n",
    "print(\"Cevap:\", answer)"
   ]
  },
  {
   "cell_type": "markdown",
   "id": "315839d7-fb5e-4ec1-b024-875608c2ef1b",
   "metadata": {},
   "source": [
    "## Hata Bazlı Sorular"
   ]
  },
  {
   "cell_type": "code",
   "execution_count": 168,
   "id": "f62c234a-06a3-4bf7-877f-3d5301e6f98e",
   "metadata": {},
   "outputs": [
    {
     "name": "stdout",
     "output_type": "stream",
     "text": [
      "Cevap: \n",
      "Hayır, listede 404 hatası alan isteklerin olmadığı görülmektedir.\n"
     ]
    }
   ],
   "source": [
    "question = \"sadece 404 hatası alan istekler var mı?\"\n",
    "answer = ask_question(question)\n",
    "\n",
    "print(\"Cevap:\", answer)"
   ]
  },
  {
   "cell_type": "code",
   "execution_count": 179,
   "id": "45a55a9e-3372-416c-8c4d-d081fa6e1334",
   "metadata": {},
   "outputs": [
    {
     "name": "stdout",
     "output_type": "stream",
     "text": [
      "Cevap: \n",
      "11\n"
     ]
    }
   ],
   "source": [
    "question = \"400 hatası alan kaç istek vardır?\"\n",
    "answer = ask_question(question)\n",
    "\n",
    "print(\"Cevap:\", answer)"
   ]
  },
  {
   "cell_type": "markdown",
   "id": "ca4f44ce-bdfa-40f1-bbfb-926a0fdf2b62",
   "metadata": {},
   "source": [
    "## Güvenlik ve Anomali Tespiti"
   ]
  },
  {
   "cell_type": "code",
   "execution_count": 202,
   "id": "506bf95c-bfcb-4462-af6f-55bc4a0a0412",
   "metadata": {},
   "outputs": [
    {
     "name": "stdout",
     "output_type": "stream",
     "text": [
      "Cevap: Evet, 111.222.333.444 IP adresi 11 Mart 2016 tarihinde ardışık zaman dilimlerinde birçok istek göndermiştir. Örneğin, 10:39:43 ve 10:39:45 arasında 5 farklı istek gönderilmiştir. Ayrıca, 10:39:53 ve 10:40:18 arasında da 2 farklı istek gönderilmiştir. Toplamda 8 farklı istek gönderilmiştir.\n"
     ]
    }
   ],
   "source": [
    "question = \"Bir IP adresi belirli bir zaman diliminde ardışık olarak çok sayıda istek göndermiş mi?\"\n",
    "answer = ask_question(question)\n",
    "\n",
    "print(\"Cevap:\", answer)"
   ]
  },
  {
   "cell_type": "code",
   "execution_count": 203,
   "id": "f57d838b-33bd-4a2c-8847-d7654ac8727e",
   "metadata": {},
   "outputs": [
    {
     "name": "stdout",
     "output_type": "stream",
     "text": [
      "Cevap: \n",
      "888.99.11.22\n",
      "999.111.222.333\n"
     ]
    }
   ],
   "source": [
    "question = \"'GET /admin' isteğini gönderen IP adresleri hangileridir?\"\n",
    "answer = ask_question(question)\n",
    "\n",
    "print(\"Cevap:\", answer)"
   ]
  },
  {
   "cell_type": "code",
   "execution_count": 204,
   "id": "ee302b80-04bc-46c8-86ea-ee8518755b40",
   "metadata": {},
   "outputs": [
    {
     "name": "stdout",
     "output_type": "stream",
     "text": [
      "Cevap: Evet, bu user agent ile yapılan isteklerde bir anormallik var gibi görünüyor. Öncelikle, bu user agent'a sahip olan IP adresinin yaptığı isteklerde sürekli olarak aynı URL'e yapılan isteklerde bir artış görülmekte ve bu isteklerin neredeyse tamamı 400 (Bad Request) kodu ile sonuçlanmaktadır. Bu durum, muhtemelen bir bot veya spam saldırısı gibi görünmektedir ve dikkat edilmesi gereken bir durum olabilir. Ayrıca, bu user agent ile yapılan isteklerin bir kısmı da boş bir istek (GET / HTTP/1.1) şeklinde gözükmektedir, bu da yine isteklerin anormal bir şekilde yapıldığını göstermektedir.\n"
     ]
    }
   ],
   "source": [
    "question = \"'libwww-perl/6.05' gibi belirli bir user agent'la yapılan isteklerde bir anormallik var mı?\"\n",
    "answer = ask_question(question)\n",
    "\n",
    "print(\"Cevap:\", answer)"
   ]
  },
  {
   "cell_type": "code",
   "execution_count": null,
   "id": "a04c77b8-ac2d-4056-b256-a71b6365d61f",
   "metadata": {},
   "outputs": [],
   "source": []
  }
 ],
 "metadata": {
  "kernelspec": {
   "display_name": "Python 3 (ipykernel)",
   "language": "python",
   "name": "python3"
  },
  "language_info": {
   "codemirror_mode": {
    "name": "ipython",
    "version": 3
   },
   "file_extension": ".py",
   "mimetype": "text/x-python",
   "name": "python",
   "nbconvert_exporter": "python",
   "pygments_lexer": "ipython3",
   "version": "3.8.18"
  }
 },
 "nbformat": 4,
 "nbformat_minor": 5
}
