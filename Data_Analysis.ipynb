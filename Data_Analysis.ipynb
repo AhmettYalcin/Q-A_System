{
 "cells": [
  {
   "cell_type": "code",
   "execution_count": 1,
   "id": "dee70fe4-8cad-4d23-99ca-e62b64fbd854",
   "metadata": {},
   "outputs": [],
   "source": [
    "import pandas as pd\n",
    "from datetime import datetime"
   ]
  },
  {
   "cell_type": "code",
   "execution_count": 2,
   "id": "d4e21e09-1d7a-4d77-9d34-72f9e5ce0e5b",
   "metadata": {},
   "outputs": [],
   "source": [
    "import pandas as pd\n",
    "import re\n",
    "\n",
    "# Log dosyasının yolu\n",
    "log_file_path = \"example-access.log.txt\"\n"
   ]
  },
  {
   "cell_type": "code",
   "execution_count": 3,
   "id": "c34099cc-ee31-4ca3-a376-2dc588052544",
   "metadata": {},
   "outputs": [],
   "source": [
    "# Zaman damgasını ve methodu ayrıştıralım :)\n",
    "def parse_log_line(line):\n",
    "    # Regex pattern ile log satırını ayırma (*StackOverFlow yardımı)\n",
    "    pattern = r'(\\S+) - - \\[([^\\]]+)\\] \"([^\"]+)\" (\\d{3}) (\\d+) \"-\" \"([^\"]+)\" \"-\"'\n",
    "    match = re.match(pattern, line)\n",
    "    if match:\n",
    "        ip, timestamp, request, status, size, user_agent = match.groups()\n",
    "        try:\n",
    "            method, url, protocol = request.split()\n",
    "        except ValueError:\n",
    "            method, url, protocol = (\"\", \"\", \"\")\n",
    "            \n",
    "        # Zaman damgası ve methodu doğru ayırma\n",
    "        timestamp = f'[{timestamp}]'\n",
    "        return [ip, timestamp, method, url, protocol, int(status), int(size), user_agent]\n",
    "    return None"
   ]
  },
  {
   "cell_type": "code",
   "execution_count": 4,
   "id": "bf70dbb4-e253-41bc-9344-c81ec0b2b857",
   "metadata": {},
   "outputs": [],
   "source": [
    "# Log dosyasını okuma\n",
    "with open(log_file_path, 'r') as file:\n",
    "    lines = file.readlines()"
   ]
  },
  {
   "cell_type": "code",
   "execution_count": 5,
   "id": "448c7db6-05b0-4a01-91dd-0235649918df",
   "metadata": {},
   "outputs": [],
   "source": [
    "# Verileri ayrıştırma\n",
    "data = [parse_log_line(line) for line in lines if parse_log_line(line) is not None]"
   ]
  },
  {
   "cell_type": "code",
   "execution_count": 6,
   "id": "b43a9796-6c50-4923-af9b-b4dd72e0dade",
   "metadata": {},
   "outputs": [
    {
     "data": {
      "text/html": [
       "<div>\n",
       "<style scoped>\n",
       "    .dataframe tbody tr th:only-of-type {\n",
       "        vertical-align: middle;\n",
       "    }\n",
       "\n",
       "    .dataframe tbody tr th {\n",
       "        vertical-align: top;\n",
       "    }\n",
       "\n",
       "    .dataframe thead th {\n",
       "        text-align: right;\n",
       "    }\n",
       "</style>\n",
       "<table border=\"1\" class=\"dataframe\">\n",
       "  <thead>\n",
       "    <tr style=\"text-align: right;\">\n",
       "      <th></th>\n",
       "      <th>IP</th>\n",
       "      <th>timestamp</th>\n",
       "      <th>Method</th>\n",
       "      <th>URL</th>\n",
       "      <th>Protocol</th>\n",
       "      <th>StatusCode</th>\n",
       "      <th>ResponseSize</th>\n",
       "      <th>UserAgent</th>\n",
       "    </tr>\n",
       "  </thead>\n",
       "  <tbody>\n",
       "    <tr>\n",
       "      <th>0</th>\n",
       "      <td>33.444.55.666</td>\n",
       "      <td>[11/Mar/2016:05:09:15 -0500]</td>\n",
       "      <td>GET</td>\n",
       "      <td>/</td>\n",
       "      <td>HTTP/1.1</td>\n",
       "      <td>301</td>\n",
       "      <td>184</td>\n",
       "      <td>libwww-perl/6.05</td>\n",
       "    </tr>\n",
       "    <tr>\n",
       "      <th>1</th>\n",
       "      <td>33.444.55.666</td>\n",
       "      <td>[11/Mar/2016:05:09:16 -0500]</td>\n",
       "      <td>GET</td>\n",
       "      <td>/</td>\n",
       "      <td>HTTP/1.1</td>\n",
       "      <td>400</td>\n",
       "      <td>37</td>\n",
       "      <td>libwww-perl/6.05</td>\n",
       "    </tr>\n",
       "    <tr>\n",
       "      <th>2</th>\n",
       "      <td>33.444.55.666</td>\n",
       "      <td>[11/Mar/2016:05:09:17 -0500]</td>\n",
       "      <td>GET</td>\n",
       "      <td>/</td>\n",
       "      <td>HTTP/1.1</td>\n",
       "      <td>400</td>\n",
       "      <td>37</td>\n",
       "      <td>libwww-perl/6.05</td>\n",
       "    </tr>\n",
       "    <tr>\n",
       "      <th>3</th>\n",
       "      <td>33.444.55.666</td>\n",
       "      <td>[11/Mar/2016:05:09:18 -0500]</td>\n",
       "      <td>GET</td>\n",
       "      <td>/</td>\n",
       "      <td>HTTP/1.1</td>\n",
       "      <td>400</td>\n",
       "      <td>37</td>\n",
       "      <td>libwww-perl/6.05</td>\n",
       "    </tr>\n",
       "    <tr>\n",
       "      <th>4</th>\n",
       "      <td>33.444.55.666</td>\n",
       "      <td>[11/Mar/2016:05:09:19 -0500]</td>\n",
       "      <td>GET</td>\n",
       "      <td>/</td>\n",
       "      <td>HTTP/1.1</td>\n",
       "      <td>400</td>\n",
       "      <td>37</td>\n",
       "      <td>libwww-perl/6.05</td>\n",
       "    </tr>\n",
       "  </tbody>\n",
       "</table>\n",
       "</div>"
      ],
      "text/plain": [
       "              IP                     timestamp Method URL  Protocol  \\\n",
       "0  33.444.55.666  [11/Mar/2016:05:09:15 -0500]    GET   /  HTTP/1.1   \n",
       "1  33.444.55.666  [11/Mar/2016:05:09:16 -0500]    GET   /  HTTP/1.1   \n",
       "2  33.444.55.666  [11/Mar/2016:05:09:17 -0500]    GET   /  HTTP/1.1   \n",
       "3  33.444.55.666  [11/Mar/2016:05:09:18 -0500]    GET   /  HTTP/1.1   \n",
       "4  33.444.55.666  [11/Mar/2016:05:09:19 -0500]    GET   /  HTTP/1.1   \n",
       "\n",
       "   StatusCode  ResponseSize         UserAgent  \n",
       "0         301           184  libwww-perl/6.05  \n",
       "1         400            37  libwww-perl/6.05  \n",
       "2         400            37  libwww-perl/6.05  \n",
       "3         400            37  libwww-perl/6.05  \n",
       "4         400            37  libwww-perl/6.05  "
      ]
     },
     "execution_count": 6,
     "metadata": {},
     "output_type": "execute_result"
    }
   ],
   "source": [
    "# pandasla DataFrame'e dönüştürme\n",
    "df = pd.DataFrame(data, columns=[\"IP\", \"timestamp\", \"Method\", \"URL\", \"Protocol\", \"StatusCode\", \"ResponseSize\", \"UserAgent\"])\n",
    "df.head()"
   ]
  },
  {
   "cell_type": "markdown",
   "id": "a70285b0-f44f-4c22-8279-01aa6599ab49",
   "metadata": {},
   "source": [
    "#### yukarıda timestamp verilerinde -0500] bu kısmı anlayamadığım şekilde silemedim. Bu yüzden daha doğal hale getirmeye karar verdim"
   ]
  },
  {
   "cell_type": "code",
   "execution_count": 7,
   "id": "ce1b7176-bf0a-4486-9061-20b412d2abcd",
   "metadata": {},
   "outputs": [
    {
     "data": {
      "text/html": [
       "<div>\n",
       "<style scoped>\n",
       "    .dataframe tbody tr th:only-of-type {\n",
       "        vertical-align: middle;\n",
       "    }\n",
       "\n",
       "    .dataframe tbody tr th {\n",
       "        vertical-align: top;\n",
       "    }\n",
       "\n",
       "    .dataframe thead th {\n",
       "        text-align: right;\n",
       "    }\n",
       "</style>\n",
       "<table border=\"1\" class=\"dataframe\">\n",
       "  <thead>\n",
       "    <tr style=\"text-align: right;\">\n",
       "      <th></th>\n",
       "      <th>IP</th>\n",
       "      <th>timestamp</th>\n",
       "      <th>Method</th>\n",
       "      <th>URL</th>\n",
       "      <th>Protocol</th>\n",
       "      <th>StatusCode</th>\n",
       "      <th>ResponseSize</th>\n",
       "      <th>UserAgent</th>\n",
       "    </tr>\n",
       "  </thead>\n",
       "  <tbody>\n",
       "    <tr>\n",
       "      <th>0</th>\n",
       "      <td>33.444.55.666</td>\n",
       "      <td>2016-03-11 05:09:15-05:00</td>\n",
       "      <td>GET</td>\n",
       "      <td>/</td>\n",
       "      <td>HTTP/1.1</td>\n",
       "      <td>301</td>\n",
       "      <td>184</td>\n",
       "      <td>libwww-perl/6.05</td>\n",
       "    </tr>\n",
       "    <tr>\n",
       "      <th>1</th>\n",
       "      <td>33.444.55.666</td>\n",
       "      <td>2016-03-11 05:09:16-05:00</td>\n",
       "      <td>GET</td>\n",
       "      <td>/</td>\n",
       "      <td>HTTP/1.1</td>\n",
       "      <td>400</td>\n",
       "      <td>37</td>\n",
       "      <td>libwww-perl/6.05</td>\n",
       "    </tr>\n",
       "    <tr>\n",
       "      <th>2</th>\n",
       "      <td>33.444.55.666</td>\n",
       "      <td>2016-03-11 05:09:17-05:00</td>\n",
       "      <td>GET</td>\n",
       "      <td>/</td>\n",
       "      <td>HTTP/1.1</td>\n",
       "      <td>400</td>\n",
       "      <td>37</td>\n",
       "      <td>libwww-perl/6.05</td>\n",
       "    </tr>\n",
       "    <tr>\n",
       "      <th>3</th>\n",
       "      <td>33.444.55.666</td>\n",
       "      <td>2016-03-11 05:09:18-05:00</td>\n",
       "      <td>GET</td>\n",
       "      <td>/</td>\n",
       "      <td>HTTP/1.1</td>\n",
       "      <td>400</td>\n",
       "      <td>37</td>\n",
       "      <td>libwww-perl/6.05</td>\n",
       "    </tr>\n",
       "    <tr>\n",
       "      <th>4</th>\n",
       "      <td>33.444.55.666</td>\n",
       "      <td>2016-03-11 05:09:19-05:00</td>\n",
       "      <td>GET</td>\n",
       "      <td>/</td>\n",
       "      <td>HTTP/1.1</td>\n",
       "      <td>400</td>\n",
       "      <td>37</td>\n",
       "      <td>libwww-perl/6.05</td>\n",
       "    </tr>\n",
       "  </tbody>\n",
       "</table>\n",
       "</div>"
      ],
      "text/plain": [
       "              IP                 timestamp Method URL  Protocol  StatusCode  \\\n",
       "0  33.444.55.666 2016-03-11 05:09:15-05:00    GET   /  HTTP/1.1         301   \n",
       "1  33.444.55.666 2016-03-11 05:09:16-05:00    GET   /  HTTP/1.1         400   \n",
       "2  33.444.55.666 2016-03-11 05:09:17-05:00    GET   /  HTTP/1.1         400   \n",
       "3  33.444.55.666 2016-03-11 05:09:18-05:00    GET   /  HTTP/1.1         400   \n",
       "4  33.444.55.666 2016-03-11 05:09:19-05:00    GET   /  HTTP/1.1         400   \n",
       "\n",
       "   ResponseSize         UserAgent  \n",
       "0           184  libwww-perl/6.05  \n",
       "1            37  libwww-perl/6.05  \n",
       "2            37  libwww-perl/6.05  \n",
       "3            37  libwww-perl/6.05  \n",
       "4            37  libwww-perl/6.05  "
      ]
     },
     "execution_count": 7,
     "metadata": {},
     "output_type": "execute_result"
    }
   ],
   "source": [
    "# Zaman damgalarını datetime'a dönüştüreyim\n",
    "df['timestamp'] = pd.to_datetime(df['timestamp'], format='[%d/%b/%Y:%H:%M:%S %z]', errors='coerce')\n",
    "df.head()"
   ]
  },
  {
   "cell_type": "code",
   "execution_count": 8,
   "id": "df564699-efa0-4d01-bfa6-285fbfbe5d9d",
   "metadata": {},
   "outputs": [
    {
     "data": {
      "text/html": [
       "<div>\n",
       "<style scoped>\n",
       "    .dataframe tbody tr th:only-of-type {\n",
       "        vertical-align: middle;\n",
       "    }\n",
       "\n",
       "    .dataframe tbody tr th {\n",
       "        vertical-align: top;\n",
       "    }\n",
       "\n",
       "    .dataframe thead th {\n",
       "        text-align: right;\n",
       "    }\n",
       "</style>\n",
       "<table border=\"1\" class=\"dataframe\">\n",
       "  <thead>\n",
       "    <tr style=\"text-align: right;\">\n",
       "      <th></th>\n",
       "      <th>IP</th>\n",
       "      <th>timestamp</th>\n",
       "      <th>Method</th>\n",
       "      <th>URL</th>\n",
       "      <th>Protocol</th>\n",
       "      <th>StatusCode</th>\n",
       "      <th>ResponseSize</th>\n",
       "      <th>UserAgent</th>\n",
       "    </tr>\n",
       "  </thead>\n",
       "  <tbody>\n",
       "    <tr>\n",
       "      <th>0</th>\n",
       "      <td>33.444.55.666</td>\n",
       "      <td>2016-03-11 05:09:15-05:00</td>\n",
       "      <td>GET</td>\n",
       "      <td>/</td>\n",
       "      <td>HTTP/1.1</td>\n",
       "      <td>301</td>\n",
       "      <td>184</td>\n",
       "      <td>libwww-perl/6.05</td>\n",
       "    </tr>\n",
       "    <tr>\n",
       "      <th>1</th>\n",
       "      <td>33.444.55.666</td>\n",
       "      <td>2016-03-11 05:09:16-05:00</td>\n",
       "      <td>GET</td>\n",
       "      <td>/</td>\n",
       "      <td>HTTP/1.1</td>\n",
       "      <td>400</td>\n",
       "      <td>37</td>\n",
       "      <td>libwww-perl/6.05</td>\n",
       "    </tr>\n",
       "    <tr>\n",
       "      <th>2</th>\n",
       "      <td>33.444.55.666</td>\n",
       "      <td>2016-03-11 05:09:17-05:00</td>\n",
       "      <td>GET</td>\n",
       "      <td>/</td>\n",
       "      <td>HTTP/1.1</td>\n",
       "      <td>400</td>\n",
       "      <td>37</td>\n",
       "      <td>libwww-perl/6.05</td>\n",
       "    </tr>\n",
       "    <tr>\n",
       "      <th>3</th>\n",
       "      <td>33.444.55.666</td>\n",
       "      <td>2016-03-11 05:09:18-05:00</td>\n",
       "      <td>GET</td>\n",
       "      <td>/</td>\n",
       "      <td>HTTP/1.1</td>\n",
       "      <td>400</td>\n",
       "      <td>37</td>\n",
       "      <td>libwww-perl/6.05</td>\n",
       "    </tr>\n",
       "    <tr>\n",
       "      <th>4</th>\n",
       "      <td>33.444.55.666</td>\n",
       "      <td>2016-03-11 05:09:19-05:00</td>\n",
       "      <td>GET</td>\n",
       "      <td>/</td>\n",
       "      <td>HTTP/1.1</td>\n",
       "      <td>400</td>\n",
       "      <td>37</td>\n",
       "      <td>libwww-perl/6.05</td>\n",
       "    </tr>\n",
       "  </tbody>\n",
       "</table>\n",
       "</div>"
      ],
      "text/plain": [
       "              IP                 timestamp Method URL  Protocol  StatusCode  \\\n",
       "0  33.444.55.666 2016-03-11 05:09:15-05:00    GET   /  HTTP/1.1         301   \n",
       "1  33.444.55.666 2016-03-11 05:09:16-05:00    GET   /  HTTP/1.1         400   \n",
       "2  33.444.55.666 2016-03-11 05:09:17-05:00    GET   /  HTTP/1.1         400   \n",
       "3  33.444.55.666 2016-03-11 05:09:18-05:00    GET   /  HTTP/1.1         400   \n",
       "4  33.444.55.666 2016-03-11 05:09:19-05:00    GET   /  HTTP/1.1         400   \n",
       "\n",
       "   ResponseSize         UserAgent  \n",
       "0           184  libwww-perl/6.05  \n",
       "1            37  libwww-perl/6.05  \n",
       "2            37  libwww-perl/6.05  \n",
       "3            37  libwww-perl/6.05  \n",
       "4            37  libwww-perl/6.05  "
      ]
     },
     "execution_count": 8,
     "metadata": {},
     "output_type": "execute_result"
    }
   ],
   "source": [
    "# Gerekli Verilerin Seçimi\n",
    "#aslında df dataframe'inde ki bütün sütunları dahil edicem(zaten verim az) ancak her zaman  durum böyle olmayabilir bu yüzden adettendir deyip ek bir df kuralım\n",
    "df_selected = df[['IP', 'timestamp', \"Method\", 'URL', 'Protocol', 'StatusCode', \"ResponseSize\", \"UserAgent\"]]\n",
    "df_selected.head()\n",
    "#ayrıca şuanki verinin tamamını incelediğim de sadece bazı url bölümlerinde boşluklar olduğunu gördüm onları da ayıklamaya gerek görmedim"
   ]
  },
  {
   "cell_type": "code",
   "execution_count": 9,
   "id": "89d10b3e-e31e-43fb-931d-a51a8ced6264",
   "metadata": {},
   "outputs": [
    {
     "name": "stdout",
     "output_type": "stream",
     "text": [
      "En çok erişilen sayfalar:\n",
      "URL\n",
      "/                     13\n",
      "/test-endpoint         6\n",
      "/manager/html          3\n",
      "/admin                 2\n",
      "/cgi-bin/php           1\n",
      "/test/navs/global/     1\n",
      "                       1\n",
      "/test/seasons/         1\n",
      "/test/shows/           1\n",
      "/test/categories/      1\n",
      "Name: count, dtype: int64\n"
     ]
    }
   ],
   "source": [
    "# En çok erişilen sayfaları bulalım\n",
    "top_pages = df_selected['URL'].value_counts().head(10)\n",
    "print(f\"En çok erişilen sayfalar:\\n{top_pages}\")"
   ]
  },
  {
   "cell_type": "code",
   "execution_count": 10,
   "id": "a71cd31b-b8da-4b97-994a-192f14672ca4",
   "metadata": {},
   "outputs": [
    {
     "name": "stdout",
     "output_type": "stream",
     "text": [
      "En aktif IP adresleri:\n",
      "IP\n",
      "111.222.333.444    10\n",
      "33.444.55.666       9\n",
      "222.333.444.555     8\n",
      "444.555.666.77      3\n",
      "777.888.99.111      1\n",
      "888.99.11.22        1\n",
      "999.111.222.333     1\n",
      "55.666.777.888      1\n",
      "666.777.8.99        1\n",
      "112.223.334.445     1\n",
      "Name: count, dtype: int64\n"
     ]
    }
   ],
   "source": [
    "# En aktif IP adreslerini bulalım\n",
    "top_ips = df_selected['IP'].value_counts().head(10)\n",
    "print(f\"En aktif IP adresleri:\\n{top_ips}\")"
   ]
  },
  {
   "cell_type": "code",
   "execution_count": 11,
   "id": "1361d72e-58f7-4969-89b7-50e0aa3ea120",
   "metadata": {},
   "outputs": [
    {
     "name": "stdout",
     "output_type": "stream",
     "text": [
      "\n",
      "HTTP Yanıt Kodlarının Dağılımı:\n",
      "StatusCode\n",
      "301    14\n",
      "400    11\n",
      "200    11\n",
      "Name: count, dtype: int64\n"
     ]
    }
   ],
   "source": [
    "# HTTP yanıt kodlarının dağılımını inceleyelim\n",
    "Status_codes = df_selected['StatusCode'].value_counts()\n",
    "print(\"\\nHTTP Yanıt Kodlarının Dağılımı:\")\n",
    "print(Status_codes)"
   ]
  },
  {
   "cell_type": "code",
   "execution_count": 12,
   "id": "d9eb25c1-957a-4595-ae99-fc14f09766f1",
   "metadata": {},
   "outputs": [
    {
     "name": "stdout",
     "output_type": "stream",
     "text": [
      "Toplam HTTP isteği sayısı: 36\n"
     ]
    }
   ],
   "source": [
    "#\"How many HTTP requests were made? \"\n",
    "total_requests = df_selected['Method'].count()\n",
    "print(f\"Toplam HTTP isteği sayısı: {total_requests}\")"
   ]
  },
  {
   "cell_type": "code",
   "execution_count": 13,
   "id": "ea454b8e-01f7-4ff4-9fcd-100ff2697b45",
   "metadata": {},
   "outputs": [
    {
     "name": "stdout",
     "output_type": "stream",
     "text": [
      "                   Endpoint  AccessCount\n",
      "0                         /           13\n",
      "1            /test-endpoint            6\n",
      "2             /manager/html            3\n",
      "3                    /admin            2\n",
      "4              /cgi-bin/php            1\n",
      "5        /test/navs/global/            1\n",
      "6                                      1\n",
      "7            /test/seasons/            1\n",
      "8              /test/shows/            1\n",
      "9         /test/categories/            1\n",
      "10            /test/events/            1\n",
      "11             /test/items/            1\n",
      "12             /test/staff/            1\n",
      "13    /test/items/slug/bar/            1\n",
      "14    /test/items/slug/foo/            1\n",
      "15  /test/homepage/current/            1\n"
     ]
    }
   ],
   "source": [
    "#En sık erişilen endpoint nedir?\n",
    "endpoint_counts = df_selected['URL'].value_counts()\n",
    "\n",
    "endpoint_counts_df = endpoint_counts.reset_index()\n",
    "endpoint_counts_df.columns = ['Endpoint', 'AccessCount']\n",
    "\n",
    "print(endpoint_counts_df)"
   ]
  },
  {
   "cell_type": "code",
   "execution_count": 14,
   "id": "1386b45d-a2c4-43b0-8311-da90a4d19409",
   "metadata": {},
   "outputs": [
    {
     "name": "stdout",
     "output_type": "stream",
     "text": [
      "Toplam GET isteği sayısı: 34\n"
     ]
    }
   ],
   "source": [
    "# GET isteklerinin sayısını hesaplayın\n",
    "get_requests_count = df_selected[df_selected['Method'] == 'GET'].shape[0]\n",
    "\n",
    "print(f\"Toplam GET isteği sayısı: {get_requests_count}\")\n"
   ]
  },
  {
   "cell_type": "code",
   "execution_count": 15,
   "id": "8785b173-2c49-45af-97f2-057e121ce34a",
   "metadata": {},
   "outputs": [
    {
     "name": "stdout",
     "output_type": "stream",
     "text": [
      "'libwww-perl/6.05' UserAgent'ı tarafından kullanılan IP adresleri:\n",
      "33.444.55.666\n"
     ]
    }
   ],
   "source": [
    "# 'libwww-perl/6.05' user agent'ı hangi IP adresleri tarafından kullanılmıştır?\n",
    "\n",
    "\n",
    "specific_useragent_df = df_selected[df_selected['UserAgent'] == 'libwww-perl/6.05']\n",
    "\n",
    "# Bu UserAgent'ın hangi IP adresleri tarafından kullanıldığı\n",
    "ip_addresses = specific_useragent_df['IP'].unique()\n",
    "\n",
    "print(f\"'libwww-perl/6.05' UserAgent'ı tarafından kullanılan IP adresleri:\")\n",
    "for ip in ip_addresses:\n",
    "    print(ip)\n"
   ]
  },
  {
   "cell_type": "code",
   "execution_count": 16,
   "id": "6d072801-bc33-4ff9-83f1-f38ed6901fa7",
   "metadata": {},
   "outputs": [
    {
     "name": "stdout",
     "output_type": "stream",
     "text": [
      "400 hata kodu döndüren isteklerin sayısı: 11\n"
     ]
    }
   ],
   "source": [
    "#Kaç tane 400 hata kodu döndüren istek vardır?\"\n",
    "\n",
    "error_400_count = df_selected[df_selected['StatusCode'] == 400].shape[0]\n",
    "\n",
    "print(f\"400 hata kodu döndüren isteklerin sayısı: {error_400_count}\")\n"
   ]
  },
  {
   "cell_type": "code",
   "execution_count": 17,
   "id": "d954e878-0bf7-4ee4-a29a-ac841ae99873",
   "metadata": {},
   "outputs": [
    {
     "name": "stdout",
     "output_type": "stream",
     "text": [
      "Farklı user agent sayısı: 5\n"
     ]
    }
   ],
   "source": [
    "# Kaç farklı user agent kullanılmıştır? \n",
    "\n",
    "unique_user_agents_count = df_selected['UserAgent'].nunique()\n",
    "\n",
    "print(f\"Farklı user agent sayısı: {unique_user_agents_count}\")\n"
   ]
  },
  {
   "cell_type": "code",
   "execution_count": 18,
   "id": "75767336-c2d3-469c-a09e-9d6538b272e7",
   "metadata": {},
   "outputs": [
    {
     "name": "stdout",
     "output_type": "stream",
     "text": [
      "En erken yapılan istek saati: 2016-03-11 05:09:15-05:00\n",
      "En geç yapılan istek saati: 2016-03-11 12:07:35-05:00\n"
     ]
    }
   ],
   "source": [
    "#En erken ve en geç yapılan istekler hangi saatlerde gerçekleşmiştir?\n",
    "\n",
    "# En erken ve en geç yapılan isteklerin saati\n",
    "earliest_request_time = df_selected['timestamp'].min()\n",
    "latest_request_time = df_selected['timestamp'].max()\n",
    "\n",
    "# Sonuçları yazdırın\n",
    "print(f\"En erken yapılan istek saati: {earliest_request_time}\")\n",
    "print(f\"En geç yapılan istek saati: {latest_request_time}\")\n"
   ]
  },
  {
   "cell_type": "code",
   "execution_count": 19,
   "id": "e160cd37-2810-41fb-8be6-100b6f7723a5",
   "metadata": {},
   "outputs": [
    {
     "name": "stdout",
     "output_type": "stream",
     "text": [
      "hour\n",
      "5      9\n",
      "6      1\n",
      "7      6\n",
      "8      1\n",
      "9      1\n",
      "10    16\n",
      "12     2\n",
      "dtype: int64\n"
     ]
    }
   ],
   "source": [
    "# Saat bazında isteklerin sayısında bir artış veya azalma eğilimi var mı?\n",
    "df_selected['hour'] = df_selected['timestamp'].dt.hour\n",
    "\n",
    "# Saat bazında istek sayısını gruplandırsam ...\n",
    "hourly_request_counts = df_selected.groupby('hour').size()\n",
    "\n",
    "print(hourly_request_counts)"
   ]
  },
  {
   "cell_type": "code",
   "execution_count": 20,
   "id": "24e77d9e-5d89-47b9-927f-678ff691cbe8",
   "metadata": {},
   "outputs": [
    {
     "name": "stdout",
     "output_type": "stream",
     "text": [
      "404 hata kodu döndüren istek bulunmamaktadır.\n"
     ]
    }
   ],
   "source": [
    "# 404 hatası alan istekler var mı?\n",
    "\n",
    "error_404_requests = df_selected[df_selected['StatusCode'] == 404]\n",
    "\n",
    "# 404 hata kodu döndüren isteklerin sayısı\n",
    "error_404_count = error_404_requests.shape[0]\n",
    "\n",
    "if error_404_count > 0:\n",
    "    print(f\"404 hata kodu döndüren {error_404_count} adet istek bulunmaktadır.\")\n",
    "    print(error_404_requests)\n",
    "else:\n",
    "    print(\"404 hata kodu döndüren istek bulunmamaktadır.\")"
   ]
  },
  {
   "cell_type": "code",
   "execution_count": 21,
   "id": "f973075d-8de2-40e1-a885-bea891f4ab56",
   "metadata": {},
   "outputs": [
    {
     "name": "stdout",
     "output_type": "stream",
     "text": [
      "400 hatası döndüren endpoint'ler:\n",
      "/\n",
      "/admin\n",
      "\n"
     ]
    }
   ],
   "source": [
    "# 400 hatası veren endpoint'ler nelerdir?\n",
    "\n",
    "error_400_requests = df_selected[df_selected['StatusCode'] == 400]\n",
    "\n",
    "# 400 hatası döndüren endpoint\n",
    "error_400_endpoints = error_400_requests['URL'].unique()\n",
    "\n",
    "print(\"400 hatası döndüren endpoint'ler:\")\n",
    "for endpoint in error_400_endpoints:\n",
    "    print(endpoint)"
   ]
  },
  {
   "cell_type": "code",
   "execution_count": 22,
   "id": "b25b4585-d7e0-41ab-9fbd-768045b00bdc",
   "metadata": {},
   "outputs": [
    {
     "name": "stdout",
     "output_type": "stream",
     "text": [
      "Toplam 11 adet 400 hata kodu döndüren istek bulunmaktadır.\n"
     ]
    }
   ],
   "source": [
    "# kaç adet 400 hatası vardır? \n",
    "\n",
    "error_400_requests = df_selected[df_selected['StatusCode'] == 400]\n",
    "\n",
    "error_400_count = error_400_requests.shape[0]\n",
    "\n",
    "print(f\"Toplam {error_400_count} adet 400 hata kodu döndüren istek bulunmaktadır.\")\n"
   ]
  },
  {
   "cell_type": "code",
   "execution_count": 23,
   "id": "27d94036-fbe7-4d16-8330-48b87e2fb1e3",
   "metadata": {},
   "outputs": [
    {
     "name": "stdout",
     "output_type": "stream",
     "text": [
      "GET /admin isteğini gönderen IP adresleri:\n",
      "888.99.11.22\n",
      "999.111.222.333\n"
     ]
    }
   ],
   "source": [
    "# GET /admin isteğini gönderen IP adresleri hangileridir?\"\n",
    "\n",
    "admin_requests = df_selected[(df_selected['Method'] == 'GET') & (df_selected['URL'] == '/admin')]\n",
    "\n",
    "# Bu isteği gönderen benzersiz IP adresleri\n",
    "admin_ip_addresses = admin_requests['IP'].unique()\n",
    "\n",
    "\n",
    "print(\"GET /admin isteğini gönderen IP adresleri:\")\n",
    "for ip in admin_ip_addresses:\n",
    "    print(ip)\n"
   ]
  },
  {
   "cell_type": "code",
   "execution_count": null,
   "id": "5f87585b-b697-49a6-b2aa-99bff1dfe249",
   "metadata": {},
   "outputs": [],
   "source": []
  }
 ],
 "metadata": {
  "kernelspec": {
   "display_name": "Python 3 (ipykernel)",
   "language": "python",
   "name": "python3"
  },
  "language_info": {
   "codemirror_mode": {
    "name": "ipython",
    "version": 3
   },
   "file_extension": ".py",
   "mimetype": "text/x-python",
   "name": "python",
   "nbconvert_exporter": "python",
   "pygments_lexer": "ipython3",
   "version": "3.8.18"
  }
 },
 "nbformat": 4,
 "nbformat_minor": 5
}
